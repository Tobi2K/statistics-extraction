{
 "cells": [
  {
   "cell_type": "markdown",
   "source": [
    "# Imports"
   ],
   "metadata": {
    "collapsed": false
   }
  },
  {
   "cell_type": "code",
   "execution_count": 8,
   "metadata": {
    "collapsed": true
   },
   "outputs": [],
   "source": [
    "import json\n",
    "import os"
   ]
  },
  {
   "cell_type": "markdown",
   "source": [
    "# Filter papers by tag and save URLs to file\n",
    "`tag` needs to be an arXiv tag\n",
    "\n",
    "`id-list.txt` is a list of arXiv paper IDs\n",
    "`pdf-list.txt` is a list of arXiv paper URLs for PDF files (https://arxiv.org/pdf/xxxx.xxxx.pdf)\n",
    "`id-list.txt` is a list of arXiv paper URLs for their overview files (https://arxiv.org/abs/xxxx.xxxx.pdf). Also, the file contains the title and date of last update for the paper"
   ],
   "metadata": {
    "collapsed": false
   }
  },
  {
   "cell_type": "code",
   "execution_count": 22,
   "outputs": [],
   "source": [
    "arxivList = []\n",
    "tag = 'cs.HC'\n",
    "with open('arxiv-metadata-oai-snapshot.json') as f:\n",
    "    for obj in f:\n",
    "        tempDict = json.loads(obj)\n",
    "        arxivList.append(tempDict)\n",
    "with open('id-list.txt', 'w') as f, open('pdf-list.txt', 'w') as g, open('tex-list.txt', 'w') as h:\n",
    "    count = 1\n",
    "    for article in arxivList:\n",
    "        if tag == article['categories'].split()[0]:\n",
    "\n",
    "            f.write(article[\"id\"] + \"\\n\")\n",
    "            g.write(\"https://arxiv.org/pdf/\" + article[\"id\"] + \".pdf\\n\")\n",
    "            escaped = article[\"title\"].replace('\\n', '\\\\n')\n",
    "            h.write(str(count) + \" ,, \" + escaped + \" ,, \" + \"http://arxiv.org/abs/\" + article[\"id\"] + \" ,, \" + article[\"update_date\"] + \"\\n\")\n",
    "            count += 1"
   ],
   "metadata": {
    "collapsed": false
   }
  },
  {
   "cell_type": "markdown",
   "source": [
    "# Generates a list of URLs for PDFs for all downloaded tex files located in arXiv-papers/tex/\n",
    "When crawling papers, not all papers are available in LaTeX. Move the tar.gz archives to the folder `arXiv-papers/tex/` and use the following code to generate a list of the corresponding PDF files, if you would like to have the same papers in PDF and LaTeX."
   ],
   "metadata": {
    "collapsed": false
   }
  },
  {
   "cell_type": "code",
   "execution_count": 9,
   "outputs": [
    {
     "name": "stdout",
     "output_type": "stream",
     "text": [
      "4023\n"
     ]
    }
   ],
   "source": [
    "h = open('tex-list.txt', 'r')\n",
    "g = open('filtered-pdf-list.txt', 'w')\n",
    "ids = list(map(lambda x: int(x.replace('.tar.gz', '')), os.listdir('arXiv-papers/tex/')))\n",
    "for line in h:\n",
    "        x = line.split(\" ,, \")\n",
    "        if int(x[0]) in ids:\n",
    "            g.write(line)"
   ],
   "metadata": {
    "collapsed": false
   }
  },
  {
   "cell_type": "markdown",
   "source": [
    "# This just checks, if all pdf files are present as LaTeX files"
   ],
   "metadata": {
    "collapsed": false
   }
  },
  {
   "cell_type": "code",
   "execution_count": 26,
   "outputs": [
    {
     "name": "stdout",
     "output_type": "stream",
     "text": [
      "[]\n"
     ]
    }
   ],
   "source": [
    "idstar = list(map(lambda x: int(x.replace('.tar.gz', '')), os.listdir('arXiv-papers/tex/')))\n",
    "idspdf = list(map(lambda x: int(x.replace('.pdf', '')), os.listdir('arXiv-papers/pdf/')))\n",
    "s = set(idspdf)\n",
    "temp3 = [x for x in idstar if x not in s]\n",
    "temp3.sort()\n",
    "print(temp3)"
   ],
   "metadata": {
    "collapsed": false
   }
  }
 ],
 "metadata": {
  "kernelspec": {
   "display_name": "Python 3",
   "language": "python",
   "name": "python3"
  },
  "language_info": {
   "codemirror_mode": {
    "name": "ipython",
    "version": 2
   },
   "file_extension": ".py",
   "mimetype": "text/x-python",
   "name": "python",
   "nbconvert_exporter": "python",
   "pygments_lexer": "ipython2",
   "version": "2.7.6"
  }
 },
 "nbformat": 4,
 "nbformat_minor": 0
}
